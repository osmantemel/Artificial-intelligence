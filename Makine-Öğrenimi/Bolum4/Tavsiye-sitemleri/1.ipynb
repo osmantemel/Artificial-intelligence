{
 "cells": [
  {
   "cell_type": "code",
   "execution_count": 2,
   "metadata": {},
   "outputs": [],
   "source": [
    "import pandas as pd \n",
    "import numpy as np\n",
    "import matplotlib.pyplot as plt"
   ]
  },
  {
   "cell_type": "code",
   "execution_count": 3,
   "metadata": {},
   "outputs": [],
   "source": [
    "movie = pd.read_csv(\"movie.csv\")\n",
    "# \"rating.csv\" dosyasını okuyarak bir veri çerçevesi oluşturur.\n",
    "# Ardından \"timestamp\" sütununu veriden çıkarır.\n",
    "rating = pd.read_csv(\"rating.csv\").drop(\"timestamp\",axis=1)"
   ]
  },
  {
   "cell_type": "code",
   "execution_count": 4,
   "metadata": {},
   "outputs": [
    {
     "name": "stdout",
     "output_type": "stream",
     "text": [
      "movieId     int64\n",
      "title      object\n",
      "genres     object\n",
      "dtype: object\n",
      "userId       int64\n",
      "movieId      int64\n",
      "rating     float64\n",
      "dtype: object\n"
     ]
    }
   ],
   "source": [
    "print(movie.dtypes)\n",
    "print(rating.dtypes)"
   ]
  },
  {
   "cell_type": "code",
   "execution_count": 5,
   "metadata": {},
   "outputs": [],
   "source": [
    "movie[\"movieId\"] = movie[\"movieId\"].astype(object)\n",
    "rating[\"movieId\"] = rating[\"movieId\"].astype(object)\n",
    "rating[\"userId\"] = rating[\"userId\"].astype(object)"
   ]
  },
  {
   "cell_type": "code",
   "execution_count": 6,
   "metadata": {},
   "outputs": [
    {
     "name": "stdout",
     "output_type": "stream",
     "text": [
      "movieId    0\n",
      "title      0\n",
      "genres     0\n",
      "dtype: int64\n",
      "userId     0\n",
      "movieId    0\n",
      "rating     0\n",
      "dtype: int64\n"
     ]
    }
   ],
   "source": [
    "print(movie.isnull().sum())\n",
    "print(rating.isnull().sum())"
   ]
  },
  {
   "cell_type": "code",
   "execution_count": 7,
   "metadata": {},
   "outputs": [
    {
     "name": "stdout",
     "output_type": "stream",
     "text": [
      "3.5255285642993797\n"
     ]
    }
   ],
   "source": [
    "C = rating[\"rating\"].mean()\n",
    "print(C)"
   ]
  },
  {
   "cell_type": "code",
   "execution_count": 8,
   "metadata": {},
   "outputs": [
    {
     "data": {
      "text/html": [
       "<div>\n",
       "<style scoped>\n",
       "    .dataframe tbody tr th:only-of-type {\n",
       "        vertical-align: middle;\n",
       "    }\n",
       "\n",
       "    .dataframe tbody tr th {\n",
       "        vertical-align: top;\n",
       "    }\n",
       "\n",
       "    .dataframe thead th {\n",
       "        text-align: right;\n",
       "    }\n",
       "</style>\n",
       "<table border=\"1\" class=\"dataframe\">\n",
       "  <thead>\n",
       "    <tr style=\"text-align: right;\">\n",
       "      <th></th>\n",
       "      <th>userId</th>\n",
       "      <th>rating</th>\n",
       "      <th>movieId</th>\n",
       "    </tr>\n",
       "  </thead>\n",
       "  <tbody>\n",
       "    <tr>\n",
       "      <th>0</th>\n",
       "      <td>49695</td>\n",
       "      <td>49695</td>\n",
       "      <td>1</td>\n",
       "    </tr>\n",
       "    <tr>\n",
       "      <th>1</th>\n",
       "      <td>22243</td>\n",
       "      <td>22243</td>\n",
       "      <td>2</td>\n",
       "    </tr>\n",
       "    <tr>\n",
       "      <th>2</th>\n",
       "      <td>12735</td>\n",
       "      <td>12735</td>\n",
       "      <td>3</td>\n",
       "    </tr>\n",
       "    <tr>\n",
       "      <th>3</th>\n",
       "      <td>2756</td>\n",
       "      <td>2756</td>\n",
       "      <td>4</td>\n",
       "    </tr>\n",
       "    <tr>\n",
       "      <th>4</th>\n",
       "      <td>12161</td>\n",
       "      <td>12161</td>\n",
       "      <td>5</td>\n",
       "    </tr>\n",
       "    <tr>\n",
       "      <th>...</th>\n",
       "      <td>...</td>\n",
       "      <td>...</td>\n",
       "      <td>...</td>\n",
       "    </tr>\n",
       "    <tr>\n",
       "      <th>26739</th>\n",
       "      <td>1</td>\n",
       "      <td>1</td>\n",
       "      <td>131254</td>\n",
       "    </tr>\n",
       "    <tr>\n",
       "      <th>26740</th>\n",
       "      <td>1</td>\n",
       "      <td>1</td>\n",
       "      <td>131256</td>\n",
       "    </tr>\n",
       "    <tr>\n",
       "      <th>26741</th>\n",
       "      <td>1</td>\n",
       "      <td>1</td>\n",
       "      <td>131258</td>\n",
       "    </tr>\n",
       "    <tr>\n",
       "      <th>26742</th>\n",
       "      <td>1</td>\n",
       "      <td>1</td>\n",
       "      <td>131260</td>\n",
       "    </tr>\n",
       "    <tr>\n",
       "      <th>26743</th>\n",
       "      <td>1</td>\n",
       "      <td>1</td>\n",
       "      <td>131262</td>\n",
       "    </tr>\n",
       "  </tbody>\n",
       "</table>\n",
       "<p>26744 rows × 3 columns</p>\n",
       "</div>"
      ],
      "text/plain": [
       "       userId  rating  movieId\n",
       "0       49695   49695        1\n",
       "1       22243   22243        2\n",
       "2       12735   12735        3\n",
       "3        2756    2756        4\n",
       "4       12161   12161        5\n",
       "...       ...     ...      ...\n",
       "26739       1       1   131254\n",
       "26740       1       1   131256\n",
       "26741       1       1   131258\n",
       "26742       1       1   131260\n",
       "26743       1       1   131262\n",
       "\n",
       "[26744 rows x 3 columns]"
      ]
     },
     "execution_count": 8,
     "metadata": {},
     "output_type": "execute_result"
    }
   ],
   "source": [
    "# Veri çerçevesindeki \"movieId\" sütununa göre gruplama yapılır ve her bir film için oy sayısını hesaplar.\n",
    "rating_count = rating.groupby([\"movieId\"]).count()\n",
    "\n",
    "# Yeni bir \"movieId\" sütunu oluşturarak gruplama sonuçlarını bu sütunda saklar.\n",
    "rating_count[\"movieId\"] = rating_count.index\n",
    "\n",
    "# İndeks adını \"None\" olarak değiştirir.\n",
    "rating_count.index.name = None\n",
    "\n",
    "# İndeksi sıfırlayarak, yeni \"movieId\" sütununu eski indeks olarak kullanır.\n",
    "rating_count.reset_index(inplace=True)\n",
    "\n",
    "# Gereksiz \"index\" sütununu kaldırır.\n",
    "del rating_count[\"index\"]\n",
    "\n",
    "rating_count\n",
    "\n"
   ]
  },
  {
   "cell_type": "code",
   "execution_count": 9,
   "metadata": {},
   "outputs": [
    {
     "data": {
      "text/html": [
       "<div>\n",
       "<style scoped>\n",
       "    .dataframe tbody tr th:only-of-type {\n",
       "        vertical-align: middle;\n",
       "    }\n",
       "\n",
       "    .dataframe tbody tr th {\n",
       "        vertical-align: top;\n",
       "    }\n",
       "\n",
       "    .dataframe thead th {\n",
       "        text-align: right;\n",
       "    }\n",
       "</style>\n",
       "<table border=\"1\" class=\"dataframe\">\n",
       "  <thead>\n",
       "    <tr style=\"text-align: right;\">\n",
       "      <th></th>\n",
       "      <th>userId</th>\n",
       "      <th>mean</th>\n",
       "      <th>movieId</th>\n",
       "    </tr>\n",
       "  </thead>\n",
       "  <tbody>\n",
       "    <tr>\n",
       "      <th>0</th>\n",
       "      <td>69282.396821</td>\n",
       "      <td>3.921240</td>\n",
       "      <td>1</td>\n",
       "    </tr>\n",
       "    <tr>\n",
       "      <th>1</th>\n",
       "      <td>69169.928202</td>\n",
       "      <td>3.211977</td>\n",
       "      <td>2</td>\n",
       "    </tr>\n",
       "    <tr>\n",
       "      <th>2</th>\n",
       "      <td>69072.079388</td>\n",
       "      <td>3.151040</td>\n",
       "      <td>3</td>\n",
       "    </tr>\n",
       "    <tr>\n",
       "      <th>3</th>\n",
       "      <td>69652.91328</td>\n",
       "      <td>2.861393</td>\n",
       "      <td>4</td>\n",
       "    </tr>\n",
       "    <tr>\n",
       "      <th>4</th>\n",
       "      <td>69113.475454</td>\n",
       "      <td>3.064592</td>\n",
       "      <td>5</td>\n",
       "    </tr>\n",
       "    <tr>\n",
       "      <th>...</th>\n",
       "      <td>...</td>\n",
       "      <td>...</td>\n",
       "      <td>...</td>\n",
       "    </tr>\n",
       "    <tr>\n",
       "      <th>26739</th>\n",
       "      <td>79570.0</td>\n",
       "      <td>4.000000</td>\n",
       "      <td>131254</td>\n",
       "    </tr>\n",
       "    <tr>\n",
       "      <th>26740</th>\n",
       "      <td>79570.0</td>\n",
       "      <td>4.000000</td>\n",
       "      <td>131256</td>\n",
       "    </tr>\n",
       "    <tr>\n",
       "      <th>26741</th>\n",
       "      <td>28906.0</td>\n",
       "      <td>2.500000</td>\n",
       "      <td>131258</td>\n",
       "    </tr>\n",
       "    <tr>\n",
       "      <th>26742</th>\n",
       "      <td>65409.0</td>\n",
       "      <td>3.000000</td>\n",
       "      <td>131260</td>\n",
       "    </tr>\n",
       "    <tr>\n",
       "      <th>26743</th>\n",
       "      <td>133047.0</td>\n",
       "      <td>4.000000</td>\n",
       "      <td>131262</td>\n",
       "    </tr>\n",
       "  </tbody>\n",
       "</table>\n",
       "<p>26744 rows × 3 columns</p>\n",
       "</div>"
      ],
      "text/plain": [
       "             userId      mean  movieId\n",
       "0      69282.396821  3.921240        1\n",
       "1      69169.928202  3.211977        2\n",
       "2      69072.079388  3.151040        3\n",
       "3       69652.91328  2.861393        4\n",
       "4      69113.475454  3.064592        5\n",
       "...             ...       ...      ...\n",
       "26739       79570.0  4.000000   131254\n",
       "26740       79570.0  4.000000   131256\n",
       "26741       28906.0  2.500000   131258\n",
       "26742       65409.0  3.000000   131260\n",
       "26743      133047.0  4.000000   131262\n",
       "\n",
       "[26744 rows x 3 columns]"
      ]
     },
     "execution_count": 9,
     "metadata": {},
     "output_type": "execute_result"
    }
   ],
   "source": [
    "means = rating.groupby([\"movieId\"]).mean()\n",
    "means[\"movieId\"] = means.index\n",
    "means.index.name = None\n",
    "means.reset_index(inplace=True)\n",
    "del means[\"index\"]\n",
    "means = means.rename(columns={\"rating\":\"mean\"})\n",
    "\n",
    "means"
   ]
  },
  {
   "cell_type": "code",
   "execution_count": 10,
   "metadata": {},
   "outputs": [
    {
     "name": "stdout",
     "output_type": "stream",
     "text": [
      "<bound method NDFrame.head of Empty DataFrame\n",
      "Columns: [movieId, title, genres, userId, rating, mean]\n",
      "Index: []>\n"
     ]
    }
   ],
   "source": [
    "df = pd.merge(movie, rating_count)\n",
    "df = pd.merge(df, means)\n",
    "\n",
    "print(df.head)"
   ]
  },
  {
   "cell_type": "markdown",
   "metadata": {},
   "source": [
    "## persentilde ( yüzdelik dilim )"
   ]
  },
  {
   "cell_type": "code",
   "execution_count": 11,
   "metadata": {},
   "outputs": [
    {
     "data": {
      "text/plain": [
       "(0, 6)"
      ]
     },
     "execution_count": 11,
     "metadata": {},
     "output_type": "execute_result"
    }
   ],
   "source": [
    "# Veri çerçevesindeki \"userId\" sütunundaki değerlerin %90'ını belirleyerek eşik değeri oluşturur.\n",
    "m = df[\"userId\"].quantile(0.90)\n",
    "\n",
    "# Orijinal veri çerçevesini kopyalar ve sadece \"userId\" sütunundaki değeri eşik değerden büyük veya eşit olanları içerecek şekilde filtreler.\n",
    "q_movies = df.copy().loc[df[\"userId\"] >= m]\n",
    "\n",
    "q_movies.shape\n"
   ]
  },
  {
   "cell_type": "code",
   "execution_count": null,
   "metadata": {},
   "outputs": [],
   "source": [
    "# Bir film için ağırlıklı bir puan hesaplamak üzere kullanılacak fonksiyonu tanımlar.\n",
    "# Bu fonksiyon, kullanıcı sayısı (v), ortalama puan (R), eşik değeri (m) ve normalleştirme sabiti (C) parametrelerini alır.\n",
    "def weight_rating(x, m=m, C=C):\n",
    "    v = x[\"userId\"]  # Kullanıcı sayısını alır.\n",
    "    R = x[\"mean\"]    # Ortalama puanı alır.\n",
    "    \n",
    "    # Ağırlıklı puan formülüne göre ağırlıklı puanı hesaplar ve döndürür.\n",
    "    return (v / (v + m) * R) + (m / (m + v) * C)\n",
    "\n",
    "# \"q_movies\" veri çerçevesine \"weighted_rating\" adında yeni bir sütun ekler.\n",
    "# Bu sütun, \"weight_rating\" fonksiyonunu kullanarak her bir film için ağırlıklı puanı içerir.\n",
    "q_movies[\"weighted_rating\"] = q_movies.apply(weight_rating, axis=1)\n",
    "\n",
    "# \"q_movies\" veri çerçevesini \"score\" sütununa göre büyükten küçüğe sıralar.\n",
    "q_movies = q_movies.sort_values('score', ascending=False)\n",
    "\n",
    "\n",
    "q_movies.head(10)\n"
   ]
  },
  {
   "cell_type": "markdown",
   "metadata": {},
   "source": [
    "* kalp pileri yapılan saldırı arttı önleme"
   ]
  }
 ],
 "metadata": {
  "kernelspec": {
   "display_name": "Python 3",
   "language": "python",
   "name": "python3"
  },
  "language_info": {
   "codemirror_mode": {
    "name": "ipython",
    "version": 3
   },
   "file_extension": ".py",
   "mimetype": "text/x-python",
   "name": "python",
   "nbconvert_exporter": "python",
   "pygments_lexer": "ipython3",
   "version": "3.10.12"
  }
 },
 "nbformat": 4,
 "nbformat_minor": 2
}
