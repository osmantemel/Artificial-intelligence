{
 "cells": [
  {
   "cell_type": "code",
   "execution_count": null,
   "metadata": {},
   "outputs": [],
   "source": [
    "from ultralytics import YOLO\n",
    "import cv2\n",
    "import numpy as np"
   ]
  },
  {
   "cell_type": "code",
   "execution_count": null,
   "metadata": {},
   "outputs": [],
   "source": [
    "\n",
    "model = YOLO('/home/osman/Documents/projeler/machine-learning/Plaka-Takip-sistemi/yolo/best.pt')\n",
    "\n",
    "image_path = '/home/osman/Documents/projeler/machine-learning/Plaka-Takip-sistemi/0e50ea14c4fc1353_jpg.rf.9d0ef8f1afe84f449ccf602e1f74774c.jpg'\n",
    "\n",
    "frame = cv2.imread(image_path)\n",
    "\n",
    "results = model(frame, conf=0.5)\n",
    "\n",
    "border_color = (255, 0, 0)  \n",
    "border_size = 5\n",
    "\n",
    "for result in results:\n",
    "    pred = result.boxes.data\n",
    "    # for det in pred:\n",
    "    #     print(det)\n",
    "    x1, y1, x2, y2, conf, cls = pred[1]\n",
    "\n",
    "    x1, y1, x2, y2 = int(x1), int(y1), int(x2), int(y2)\n",
    "\n",
    "    frame = cv2.rectangle(frame, (x1 - border_size, y1 - border_size), (x2 + border_size, y2 + border_size), border_color, border_size)\n",
    "\n",
    "screen_res = 640, 480\n",
    "aspect_ratio = frame.shape[1] / frame.shape[0]\n",
    "width = int(screen_res[1] * aspect_ratio)\n",
    "height = screen_res[1]\n",
    "resized_frame = cv2.resize(frame, (width, height))\n",
    "\n",
    "cv2.imshow('YOLOv8 Object Detection with Border', resized_frame)\n",
    "cv2.waitKey(0)\n",
    "cv2.destroyAllWindows()\n"
   ]
  }
 ],
 "metadata": {
  "language_info": {
   "name": "python"
  }
 },
 "nbformat": 4,
 "nbformat_minor": 2
}
