{
 "cells": [
  {
   "cell_type": "code",
   "execution_count": null,
   "metadata": {},
   "outputs": [],
   "source": [
    "import cv2\n",
    "import numpy as np\n",
    "from tensorflow.keras.models import load_model\n"
   ]
  },
  {
   "cell_type": "code",
   "execution_count": null,
   "metadata": {},
   "outputs": [],
   "source": [
    "model = load_model(\"model.h5\")\n",
    "\n",
    "test_image = cv2.imread(\"0e50ea14c4fc1353_jpg.rf.9d0ef8f1afe84f449ccf602e1f74774c.jpg\")  \n",
    "test_image = cv2.resize(test_image, (416, 416))  \n",
    "\n",
    "predictions = model.predict(np.expand_dims(test_image, axis=0))\n",
    "\n",
    "print(\"Raw Predictions:\", predictions)\n",
    "\n",
    "\n",
    "predicted_class = np.argmax(predictions)\n",
    "print(\"Predicted Class:\", predicted_class)\n",
    "\n",
    "xmin, ymin, xmax, ymax = predictions[0] * 416\n",
    "\n",
    "cv2.rectangle(test_image, (int(xmin), int(ymin)), (int(xmax), int(ymax)), (0, 255, 0), 2)\n",
    "\n",
    "cv2.imshow(\"Prediction Result\", test_image)\n",
    "cv2.waitKey(0)\n",
    "cv2.destroyAllWindows()"
   ]
  }
 ],
 "metadata": {
  "language_info": {
   "name": "python"
  }
 },
 "nbformat": 4,
 "nbformat_minor": 2
}
