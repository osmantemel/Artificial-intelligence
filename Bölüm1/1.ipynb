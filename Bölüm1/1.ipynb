{
 "cells": [
  {
   "cell_type": "code",
   "execution_count": 73,
   "metadata": {},
   "outputs": [
    {
     "name": "stdout",
     "output_type": "stream",
     "text": [
      "20\n",
      "5 ile 15 toplama sonucu 20\n",
      "5 ile 15 toplama sonucu 20\n",
      "5 ile 15 toplama sonucu 20\n",
      "linux'un faydaları\n"
     ]
    }
   ],
   "source": [
    "a=int(input(\"1. sayi\")) \n",
    "b=int(input(\"2. sayi\"))\n",
    "print(a+b)\n",
    "print(\"%s ile %s toplama sonucu %s\" %(a,b,a+b))\n",
    "print(\"{} ile {} toplama sonucu {}\" .format(a,b,a+b))\n",
    "print(f\"{a} ile {b} toplama sonucu {a+b}\")\n",
    "print('linux\\'un faydaları')"
   ]
  },
  {
   "cell_type": "code",
   "execution_count": 74,
   "metadata": {},
   "outputs": [
    {
     "name": "stdout",
     "output_type": "stream",
     "text": [
      "a küçük\n",
      "4\n"
     ]
    }
   ],
   "source": [
    "if a>b:\n",
    "    print(\"a büyük\")\n",
    "elif a<b:\n",
    "    print(\"a küçük\")\n",
    "else:\n",
    "    print(\"a eşit b\")\n",
    "    \n",
    "a=5555\n",
    "print(len(str(a)))"
   ]
  },
  {
   "cell_type": "code",
   "execution_count": 75,
   "metadata": {},
   "outputs": [
    {
     "name": "stdout",
     "output_type": "stream",
     "text": [
      "demek ele heee hmm ok... vay be! \n",
      "demek ele heee hmm ok... vay be! \n",
      "demek ele heee hmm ok... vay be! \n",
      "demek ele heee hmm ok... vay be! \n",
      "demek ele heee hmm ok... vay be! \n",
      "demek ele heee hmm ok... vay be! \n",
      "demek ele heee hmm ok... vay be! \n",
      "0\n",
      "1\n",
      "2\n",
      "3\n",
      "4\n",
      "5\n",
      "6\n",
      "7\n",
      "8\n",
      "9\n",
      "10\n",
      "11\n",
      "12\n",
      "13\n",
      "14\n",
      "2\n",
      "3\n",
      "4\n",
      "5\n",
      "6\n",
      "7\n",
      "8\n",
      "9\n",
      "10\n",
      "11\n",
      "12\n",
      "13\n",
      "14\n",
      "2\n",
      "12\n"
     ]
    }
   ],
   "source": [
    "for a in \"Bayburt\":\n",
    "    print(\"demek ele heee hmm ok... vay be! \")\n",
    "for a in range(15):\n",
    "    print(a)\n",
    "for a in range(2,15):\n",
    "    print(a)\n",
    "for a in range(2,15,10):\n",
    "    print(a)"
   ]
  },
  {
   "cell_type": "code",
   "execution_count": 76,
   "metadata": {},
   "outputs": [
    {
     "name": "stdout",
     "output_type": "stream",
     "text": [
      "1\n",
      "2\n",
      "4\n",
      "5\n"
     ]
    }
   ],
   "source": [
    "for a in range(1,6):\n",
    "    if(a ==3):\n",
    "        continue\n",
    "    print(a)"
   ]
  },
  {
   "cell_type": "markdown",
   "metadata": {},
   "source": [
    "## Ptyhon veri tipleri\n",
    "* listeler (liste)\n",
    "* tupleler (demet read only)\n",
    "* dictionaryler (sözlükler)"
   ]
  },
  {
   "cell_type": "code",
   "execution_count": 77,
   "metadata": {},
   "outputs": [
    {
     "name": "stdout",
     "output_type": "stream",
     "text": [
      "[15, 25, 65, 'osmam', 'T', 'mehmet', 'okur']\n"
     ]
    }
   ],
   "source": [
    "list=[15,25,65,\"osmam\",\"T\"]\n",
    "list.insert(1,\"osman\") #1.. indexe eleman ekleme\n",
    "list.remove(\"osman\") ## osman elemanını siler  \n",
    "newlist=[\"mehmet\",\"okur\"]\n",
    "list.extend(newlist) # birden fazla eleman ekleme için  kullanılır\n",
    "print(list)\n"
   ]
  },
  {
   "cell_type": "code",
   "execution_count": 78,
   "metadata": {},
   "outputs": [
    {
     "name": "stdout",
     "output_type": "stream",
     "text": [
      "1. Liste Oluşturma: [1, 2, 3, 4, 5]\n",
      "2. Elemanlara Erişim: 1\n",
      "3. Liste Dilimleme: [2, 3, 4]\n",
      "4. Eleman Ekleme: [1, 2, 3, 4, 5, 6]\n",
      "5. Eleman Silme: [1, 2, 4, 5, 6]\n",
      "6. Liste Birleştirme: [1, 2, 4, 5, 6, 7, 8, 9]\n",
      "7. Liste Elemanlarını Sıralama: [1, 2, 4, 5, 6]\n",
      "8. Listenin Uzunluğu: 5\n",
      "9. Elemanların Sayısı: 1\n",
      "10. Liste Temizleme: []\n"
     ]
    }
   ],
   "source": [
    "\n",
    "my_list = [1, 2, 3, 4, 5] # Liste Oluşturma\n",
    "print(\"1. Liste Oluşturma:\", my_list)\n",
    "\n",
    "\n",
    "first_element = my_list[0] # Elemanlara Erişim\n",
    "print(\"2. Elemanlara Erişim:\", first_element)\n",
    "\n",
    "\n",
    "sliced_list = my_list[1:4] # Liste Dilimleme (Slicing)\n",
    "print(\"3. Liste Dilimleme:\", sliced_list)\n",
    "\n",
    "\n",
    "my_list.append(6) # Eleman Ekleme\n",
    "print(\"4. Eleman Ekleme:\", my_list)\n",
    "\n",
    "\n",
    "my_list.remove(3) # Eleman Silme\n",
    "print(\"5. Eleman Silme:\", my_list)\n",
    "\n",
    "\n",
    "new_list = my_list + [7, 8, 9] # Liste Birleştirme\n",
    "print(\"6. Liste Birleştirme:\", new_list)\n",
    "\n",
    "\n",
    "my_list.sort() # Liste Elemanlarını Sıralama\n",
    "print(\"7. Liste Elemanlarını Sıralama:\", my_list)\n",
    "\n",
    "\n",
    "length = len(my_list) # Listenin Uzunluğu\n",
    "print(\"8. Listenin Uzunluğu:\", length)\n",
    "\n",
    "\n",
    "count_of_2 = my_list.count(2) # Elemanların Sayısı\n",
    "print(\"9. Elemanların Sayısı:\", count_of_2)\n",
    "\n",
    "\n",
    "my_list.clear() # Liste Temizleme\n",
    "print(\"10. Liste Temizleme:\", my_list)\n"
   ]
  },
  {
   "cell_type": "markdown",
   "metadata": {},
   "source": [
    "## Tuple \n",
    "* değiştirilemez\n",
    "* bir kere tanımlanır ve prgram sonuna kadar sabit olarak kalır"
   ]
  },
  {
   "cell_type": "code",
   "execution_count": 79,
   "metadata": {},
   "outputs": [
    {
     "name": "stdout",
     "output_type": "stream",
     "text": [
      "<class 'tuple'>\n",
      "(1, 2, 3, 4, 5, 6, 7, 8, 9)\n",
      "<class 'tuple'>\n"
     ]
    }
   ],
   "source": [
    "demet =(1,2,3,4,5,6,7,8,9)\n",
    "print(type(demet))\n",
    "print(demet)\n",
    "demet1=\"osman\",\n",
    "print(type(demet1))"
   ]
  },
  {
   "cell_type": "markdown",
   "metadata": {},
   "source": [
    "## Dictionary \n",
    "* sözlükler \n",
    "* mutlaka süslü parantez arasında yazılmalı \n",
    "* \"\" çift tırnak mutlaka kullanılmalı\n"
   ]
  },
  {
   "cell_type": "code",
   "execution_count": 80,
   "metadata": {},
   "outputs": [
    {
     "name": "stdout",
     "output_type": "stream",
     "text": [
      "1. Sözlük Oluşturma (Dict Comprehension): {1: 1, 2: 4, 3: 9, 4: 16, 5: 25}\n",
      "2. get() Metodu: 552122 Anahtar bulunamadı\n",
      "3. keys(), values(), items() Metotları: dict_keys(['osman', 'temel']) dict_values([552122, 1111]) dict_items([('osman', 552122), ('temel', 1111)])\n",
      "4. update() Metodu: {'osman': 552122, 'temel': 1111, 'ahmet': 999, 'mehmet': 777}\n"
     ]
    }
   ],
   "source": [
    "# Sözlük Oluşturma (Dict Comprehension)\n",
    "numbers = [1, 2, 3, 4, 5]\n",
    "squared_dict = {num: num**2 for num in numbers}\n",
    "print(\"1. Sözlük Oluşturma (Dict Comprehension):\", squared_dict)\n",
    "\n",
    "# get() Metodu\n",
    "sozluk = {\"osman\": 552122, \"temel\": 1111}\n",
    "deger1 = sozluk.get(\"osman\", \"Anahtar bulunamadı\")\n",
    "deger2 = sozluk.get(\"ahmet\", \"Anahtar bulunamadı\")\n",
    "print(\"2. get() Metodu:\", deger1, deger2)\n",
    "\n",
    "# keys(), values(), items() Metotları\n",
    "keys = sozluk.keys()\n",
    "values = sozluk.values()\n",
    "items = sozluk.items()\n",
    "print(\"3. keys(), values(), items() Metotları:\", keys, values, items)\n",
    "\n",
    "# update() Metodu\n",
    "sozluk1 = {\"osman\": 552122, \"temel\": 1111}\n",
    "sozluk2 = {\"ahmet\": 999, \"mehmet\": 777}\n",
    "sozluk1.update(sozluk2)\n",
    "print(\"4. update() Metodu:\", sozluk1)\n"
   ]
  },
  {
   "cell_type": "code",
   "execution_count": 81,
   "metadata": {},
   "outputs": [
    {
     "name": "stdout",
     "output_type": "stream",
     "text": [
      "720\n"
     ]
    }
   ],
   "source": [
    "def carpim(a):\n",
    "    sonuc=1\n",
    "    for i in a:\n",
    "        sonuc=sonuc*i\n",
    "    print(sonuc)\n",
    "\n",
    "x=[1,8,9,10]\n",
    "carpim(x)"
   ]
  }
 ],
 "metadata": {
  "kernelspec": {
   "display_name": "Python 3",
   "language": "python",
   "name": "python3"
  },
  "language_info": {
   "codemirror_mode": {
    "name": "ipython",
    "version": 3
   },
   "file_extension": ".py",
   "mimetype": "text/x-python",
   "name": "python",
   "nbconvert_exporter": "python",
   "pygments_lexer": "ipython3",
   "version": "3.10.12"
  }
 },
 "nbformat": 4,
 "nbformat_minor": 2
}
